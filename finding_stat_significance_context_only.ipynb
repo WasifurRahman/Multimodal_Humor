{
 "cells": [
  {
   "cell_type": "code",
   "execution_count": 13,
   "metadata": {},
   "outputs": [],
   "source": [
    "import scipy\n",
    "from scipy import stats"
   ]
  },
  {
   "cell_type": "code",
   "execution_count": 2,
   "metadata": {},
   "outputs": [],
   "source": [
    "file = open(\"all_accuracies_for_stat.txt\", \"r\") \n",
    "lines = file.readlines() "
   ]
  },
  {
   "cell_type": "code",
   "execution_count": 4,
   "metadata": {},
   "outputs": [],
   "source": [
    "all_mod=[]\n",
    "text_only=[]"
   ]
  },
  {
   "cell_type": "code",
   "execution_count": 8,
   "metadata": {},
   "outputs": [],
   "source": [
    "for line in lines:\n",
    "    comm_pos = line.find(\",\")\n",
    "    ex_id = int(line[:comm_pos])\n",
    "    acc = float(line[comm_pos+1:])\n",
    "    \n",
    "    if(ex_id==10):\n",
    "        all_mod.append(acc)\n",
    "    else:\n",
    "        text_only.append(acc)"
   ]
  },
  {
   "cell_type": "code",
   "execution_count": 16,
   "metadata": {},
   "outputs": [],
   "source": [
    "def t_test(all_mod, text_only, first_n = 1):\n",
    "    sorted_all_mod = sorted(all_mod,reverse=True)[:first_n]\n",
    "    sorted_text = sorted(text_only,reverse=True)[:first_n]\n",
    "    result = stats.ttest_ind(sorted_all_mod,sorted_text)\n",
    "    print(first_n,result)\n",
    "    return result"
   ]
  },
  {
   "cell_type": "code",
   "execution_count": 17,
   "metadata": {},
   "outputs": [
    {
     "name": "stdout",
     "output_type": "stream",
     "text": [
      "0 Ttest_indResult(statistic=nan, pvalue=nan)\n",
      "1 Ttest_indResult(statistic=nan, pvalue=nan)\n",
      "2 Ttest_indResult(statistic=1.0214310058143925, pvalue=0.4144888982294507)\n",
      "3 Ttest_indResult(statistic=1.467598771410651, pvalue=0.21611942873930953)\n",
      "4 Ttest_indResult(statistic=1.930481951063005, pvalue=0.1017761746050888)\n",
      "5 Ttest_indResult(statistic=2.0333609062149014, pvalue=0.07645751322046918)\n",
      "6 Ttest_indResult(statistic=2.0433447413391717, pvalue=0.06826435765194577)\n",
      "7 Ttest_indResult(statistic=2.0142735907258076, pvalue=0.06695559195150765)\n",
      "8 Ttest_indResult(statistic=1.8795139799854208, pvalue=0.08114985577353055)\n",
      "9 Ttest_indResult(statistic=1.9170372284287949, pvalue=0.07326799953242229)\n",
      "10 Ttest_indResult(statistic=2.0213725979279964, pvalue=0.05836770400494377)\n",
      "11 Ttest_indResult(statistic=2.1656555151713257, pvalue=0.04259932734083867)\n",
      "12 Ttest_indResult(statistic=2.3470711613330333, pvalue=0.0283312758836767)\n",
      "13 Ttest_indResult(statistic=2.4314148086155094, pvalue=0.022876597557364122)\n",
      "14 Ttest_indResult(statistic=2.598773904151467, pvalue=0.015212097897128154)\n",
      "15 Ttest_indResult(statistic=2.4885455001288856, pvalue=0.019044691250944785)\n",
      "16 Ttest_indResult(statistic=2.4590373675633055, pvalue=0.019918253218938132)\n",
      "17 Ttest_indResult(statistic=2.3895411939951594, pvalue=0.02293182459808121)\n",
      "18 Ttest_indResult(statistic=2.487819100956941, pvalue=0.017916552036363845)\n",
      "19 Ttest_indResult(statistic=2.6295104547540302, pvalue=0.012498232968294979)\n",
      "20 Ttest_indResult(statistic=2.1442855601815047, pvalue=0.0384685880745406)\n",
      "21 Ttest_indResult(statistic=1.8908555706552685, pvalue=0.06590231149887026)\n",
      "22 Ttest_indResult(statistic=1.703474892895112, pvalue=0.09586904612347767)\n",
      "23 Ttest_indResult(statistic=1.5740217464564397, pvalue=0.12264632221715187)\n",
      "24 Ttest_indResult(statistic=1.4784285606387493, pvalue=0.14610844776350262)\n",
      "25 Ttest_indResult(statistic=1.404553137136334, pvalue=0.16659246550411255)\n",
      "26 Ttest_indResult(statistic=1.3455366699394173, pvalue=0.18452236793477197)\n",
      "27 Ttest_indResult(statistic=1.2971826217397333, pvalue=0.20029430683564478)\n"
     ]
    },
    {
     "name": "stderr",
     "output_type": "stream",
     "text": [
      "/software/anaconda3/5.3.0b/lib/python3.7/site-packages/numpy/core/fromnumeric.py:3157: RuntimeWarning: Degrees of freedom <= 0 for slice\n",
      "  **kwargs)\n",
      "/software/anaconda3/5.3.0b/lib/python3.7/site-packages/numpy/core/_methods.py:132: RuntimeWarning: invalid value encountered in double_scalars\n",
      "  ret = ret.dtype.type(ret / rcount)\n"
     ]
    }
   ],
   "source": [
    "for i in range(min(len(all_mod),len(text_only))):\n",
    "    t_test(all_mod,text_only,first_n=i)"
   ]
  },
  {
   "cell_type": "code",
   "execution_count": null,
   "metadata": {},
   "outputs": [],
   "source": []
  }
 ],
 "metadata": {
  "kernelspec": {
   "display_name": "Python 3",
   "language": "python",
   "name": "python3"
  },
  "language_info": {
   "codemirror_mode": {
    "name": "ipython",
    "version": 3
   },
   "file_extension": ".py",
   "mimetype": "text/x-python",
   "name": "python",
   "nbconvert_exporter": "python",
   "pygments_lexer": "ipython3",
   "version": "3.7.2"
  }
 },
 "nbformat": 4,
 "nbformat_minor": 2
}
